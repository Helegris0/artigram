{
 "cells": [
  {
   "cell_type": "code",
   "execution_count": 24,
   "metadata": {},
   "outputs": [],
   "source": [
    "max_steps = 8\n",
    "result = []\n",
    "lengths = {}\n",
    "\n",
    "def traversal(graph, words, node, word=None, cats='', cat=None, visited=[]):\n",
    "    if word != 'OUT':\n",
    "        if word != None:\n",
    "            visited.append(word)\n",
    "            cats += cat\n",
    "        if len(visited) <= max_steps:\n",
    "            for elem in graph[node]:\n",
    "                traversal(graph, words, elem[0], words[elem[1]], cats, elem[1], list(visited))\n",
    "    else:\n",
    "        for i in range(max_steps - len(visited)):\n",
    "            visited.append('')\n",
    "        visited.append(cats)\n",
    "        result.append(visited)\n",
    "        length = len(visited)\n",
    "        if length in lengths:\n",
    "            lengths[length] += 1\n",
    "        else:\n",
    "            lengths[length] = 1"
   ]
  },
  {
   "cell_type": "code",
   "execution_count": 5,
   "metadata": {},
   "outputs": [],
   "source": [
    "words1 = {\n",
    "    'P': 'szig',\n",
    "    'S': 'rék',\n",
    "    'T': 'rud',\n",
    "    'V': 'zot',\n",
    "    'X': 'gán',\n",
    "    'OUT': 'OUT'\n",
    "}\n",
    "\n",
    "grammar1 = {\n",
    "    'S0': [('S1', 'T'), ('S3', 'V')],\n",
    "    'S1': [('S1', 'P'), ('S2', 'T')],\n",
    "    'S2': [('S3', 'X'), ('S5', 'S')],\n",
    "    'S3': [('S3', 'X'), ('S4', 'V')],\n",
    "    'S4': [('S2', 'P'), ('S5', 'S')],\n",
    "    'S5': [(None, 'OUT')]\n",
    "}"
   ]
  },
  {
   "cell_type": "code",
   "execution_count": 25,
   "metadata": {},
   "outputs": [],
   "source": [
    "result = []\n",
    "lengths = {}\n",
    "\n",
    "traversal(grammar1, words1, 'S0')\n",
    "result.sort(key=lambda x: x.count(''), reverse=True)\n",
    "\n",
    "file = open('result.txt', 'w')\n",
    "for sentence in result:\n",
    "    line = ','.join(sentence)\n",
    "    file.write(line + '\\n')\n",
    "file.close()\n",
    "\n",
    "file = open('result.csv', 'w')\n",
    "file.write('length,count\\n')\n",
    "for key, value in lengths.items():\n",
    "    line = str(key) + ',' + str(value)\n",
    "    file.write(line + '\\n')\n",
    "file.close()"
   ]
  },
  {
   "cell_type": "code",
   "execution_count": 26,
   "metadata": {},
   "outputs": [],
   "source": [
    "words2 = {\n",
    "    'M': 'szir',\n",
    "    'R': 'gok',\n",
    "    'T': 'kav',\n",
    "    'V': 'diz',\n",
    "    'X': 'nef',\n",
    "    'OUT': 'OUT'\n",
    "}\n",
    "\n",
    "grammar2 = {\n",
    "    'S1': [('S2', 'M'), ('S3', 'V')],\n",
    "    'S2': [('S5', 'V'), ('S7', 'X')],\n",
    "    'S3': [('S6', 'X'), ('S7', 'M')],\n",
    "    'S4': [('S2', 'M'), ('S3', 'V'), ('S4', 'T')],\n",
    "    'S5': [('S7', 'X'), ('S8', 'R')],\n",
    "    'S6': [('S7', 'V'), ('S9', 'T')],\n",
    "    'S7': [('S4', 'R'), ('S8', 'R'), ('S9', 'T')],\n",
    "    'S8': [('S8', 'V'), ('S10', 'M'), (None, 'OUT')],\n",
    "    'S9': [('S9', 'R'), ('S10', 'X'), (None, 'OUT')],\n",
    "    'S10': [(None, 'OUT')]\n",
    "}"
   ]
  },
  {
   "cell_type": "code",
   "execution_count": 27,
   "metadata": {},
   "outputs": [],
   "source": [
    "result = []\n",
    "lengths = {}\n",
    "\n",
    "traversal(grammar2, words2, 'S1')\n",
    "result.sort(key=lambda x: x.count(''), reverse=True)\n",
    "\n",
    "file = open('result.txt', 'w')\n",
    "for sentence in result:\n",
    "    line = ','.join(sentence)\n",
    "    file.write(line + '\\n')\n",
    "file.close()\n",
    "\n",
    "file = open('result.csv', 'w')\n",
    "file.write('length,count\\n')\n",
    "for key, value in lengths.items():\n",
    "    line = str(key) + ',' + str(value)\n",
    "    file.write(line + '\\n')\n",
    "file.close()"
   ]
  }
 ],
 "metadata": {
  "kernelspec": {
   "display_name": "Python 3",
   "language": "python",
   "name": "python3"
  },
  "language_info": {
   "codemirror_mode": {
    "name": "ipython",
    "version": 3
   },
   "file_extension": ".py",
   "mimetype": "text/x-python",
   "name": "python",
   "nbconvert_exporter": "python",
   "pygments_lexer": "ipython3",
   "version": "3.7.3"
  }
 },
 "nbformat": 4,
 "nbformat_minor": 2
}
