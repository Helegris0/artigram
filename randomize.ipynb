{
 "cells": [
  {
   "cell_type": "code",
   "execution_count": 1,
   "metadata": {},
   "outputs": [],
   "source": [
    "import random"
   ]
  },
  {
   "cell_type": "code",
   "execution_count": 2,
   "metadata": {},
   "outputs": [],
   "source": [
    "max_steps = 8\n",
    "patterns = {}\n",
    "\n",
    "def traversal(graph, words, node, word=None, cats='', cat=None, visited=[]):\n",
    "    if word != 'OUT':\n",
    "        if word != None:\n",
    "            visited.append(word)\n",
    "            cats += cat\n",
    "        if len(visited) <= max_steps:\n",
    "            for elem in graph[node]:\n",
    "                for word in words[elem[1]]:\n",
    "                    traversal(graph, words, elem[0], word, cats, elem[1], list(visited))\n",
    "    else:\n",
    "        for i in range(max_steps - len(visited)):\n",
    "            visited.append('')\n",
    "        if cats in patterns:\n",
    "            patterns[cats].append(visited)\n",
    "        else:\n",
    "            patterns[cats] = [visited]"
   ]
  },
  {
   "cell_type": "code",
   "execution_count": 3,
   "metadata": {},
   "outputs": [],
   "source": [
    "words2 = {\n",
    "    'M': ['szir', 'rad', 'nub'],\n",
    "    'R': ['gok', 'sot', 'péf'],\n",
    "    'T': ['kav', 'bif', 'lam'],\n",
    "    'V': ['diz', 'tez', 'lor'],\n",
    "    'X': ['nef', 'vóp', 'dók'],\n",
    "    'OUT': ['OUT']\n",
    "}\n",
    "\n",
    "grammar2 = {\n",
    "    'S1': [('S2', 'M'), ('S3', 'V')],\n",
    "    'S2': [('S5', 'V'), ('S7', 'X')],\n",
    "    'S3': [('S6', 'X'), ('S7', 'M')],\n",
    "    'S4': [('S2', 'M'), ('S3', 'V'), ('S4', 'T')],\n",
    "    'S5': [('S7', 'X'), ('S8', 'R')],\n",
    "    'S6': [('S7', 'V'), ('S9', 'T')],\n",
    "    'S7': [('S4', 'R'), ('S8', 'R'), ('S9', 'T')],\n",
    "    'S8': [('S8', 'V'), ('S10', 'M'), (None, 'OUT')],\n",
    "    'S9': [('S9', 'R'), ('S10', 'X'), (None, 'OUT')],\n",
    "    'S10': [(None, 'OUT')]\n",
    "}"
   ]
  },
  {
   "cell_type": "code",
   "execution_count": 4,
   "metadata": {},
   "outputs": [],
   "source": [
    "traversal(grammar2, words2, 'S1')"
   ]
  },
  {
   "cell_type": "code",
   "execution_count": 7,
   "metadata": {},
   "outputs": [],
   "source": [
    "num_per_pattern = 3\n",
    "rel_patterns = []\n",
    "rows = []\n",
    "word_occ = {}\n",
    "\n",
    "with open('patterns.txt') as file:\n",
    "    for line in file:\n",
    "        rel_patterns.append(line.rstrip('\\n'))\n",
    "\n",
    "for pattern in rel_patterns:\n",
    "    sentences = patterns[pattern]\n",
    "    random.shuffle(sentences)\n",
    "    for i in range(num_per_pattern):\n",
    "        sentence = sentences[i]\n",
    "        for word in sentence:\n",
    "            if word != '':\n",
    "                if word in word_occ:\n",
    "                    word_occ[word] += 1\n",
    "                else:\n",
    "                    word_occ[word] = 1\n",
    "        sentence.append(pattern)\n",
    "        rows.append(sentence)\n",
    "\n",
    "file = open('sentences.csv', 'w')\n",
    "for row in rows:\n",
    "    line = ','.join(row)\n",
    "    file.write(line + '\\n')\n",
    "file.close()\n",
    "\n",
    "file = open('wordcount.csv', 'w')\n",
    "for word in word_occ:\n",
    "    file.write(word + ',' + str(word_occ[word]) + '\\n')\n",
    "file.close()"
   ]
  },
  {
   "cell_type": "code",
   "execution_count": 17,
   "metadata": {},
   "outputs": [],
   "source": [
    "num_of_sentences = 43\n",
    "rows = []\n",
    "word_occ = {}\n",
    "\n",
    "available_patterns = list(patterns.keys())\n",
    "for i in range(num_of_sentences):\n",
    "    pattern = random.choice(available_patterns)\n",
    "    available_patterns.remove(pattern)\n",
    "    sentence = random.choice(patterns[pattern])\n",
    "    for word in sentence:\n",
    "        if word != '':\n",
    "            if word in word_occ:\n",
    "                word_occ[word] += 1\n",
    "            else:\n",
    "                word_occ[word] = 1\n",
    "    sentence.append(pattern)\n",
    "    rows.append(sentence)\n",
    "\n",
    "file = open('sentences.csv', 'w')\n",
    "for row in rows:\n",
    "    line = ','.join(row)\n",
    "    file.write(line + '\\n')\n",
    "file.close()\n",
    "\n",
    "file = open('wordcount.csv', 'w')\n",
    "for word in word_occ:\n",
    "    file.write(word + ',' + str(word_occ[word]) + '\\n')\n",
    "file.close()"
   ]
  }
 ],
 "metadata": {
  "kernelspec": {
   "display_name": "Python 3",
   "language": "python",
   "name": "python3"
  },
  "language_info": {
   "codemirror_mode": {
    "name": "ipython",
    "version": 3
   },
   "file_extension": ".py",
   "mimetype": "text/x-python",
   "name": "python",
   "nbconvert_exporter": "python",
   "pygments_lexer": "ipython3",
   "version": "3.7.3"
  }
 },
 "nbformat": 4,
 "nbformat_minor": 2
}
