{
 "cells": [
  {
   "cell_type": "code",
   "execution_count": 87,
   "metadata": {},
   "outputs": [],
   "source": [
    "words = {\n",
    "    'P': 'szig',\n",
    "    'S': 'rék',\n",
    "    'T': 'rud',\n",
    "    'V': 'zot',\n",
    "    'X': 'gán'\n",
    "}\n",
    "\n",
    "grammar = {\n",
    "    'S0': [('S1', 'T'), ('S3', 'V')],\n",
    "    'S1': [('S1', 'P'), ('S2', 'T')],\n",
    "    'S2': [('S3', 'X'), ('S5', 'S')],\n",
    "    'S3': [('S3', 'X'), ('S4', 'V')],\n",
    "    'S4': [('S2', 'P'), ('S5', 'S')]\n",
    "}"
   ]
  },
  {
   "cell_type": "code",
   "execution_count": 89,
   "metadata": {},
   "outputs": [],
   "source": [
    "max_steps = 8\n",
    "result = []\n",
    "\n",
    "def traversal(graph, node, word=None, visited=[]):\n",
    "    if word != None:\n",
    "        visited.append(word)\n",
    "    if node != 'S5':\n",
    "        if len(visited) < max_steps:\n",
    "            for elem in graph[node]:\n",
    "                traversal(graph, elem[0], words[elem[1]], list(visited))\n",
    "    else:\n",
    "        result.append(visited)\n",
    "\n",
    "traversal(grammar, 'S0')\n",
    "file = open('result.txt', 'w')\n",
    "for sentence in result:\n",
    "    line = ' '.join(sentence)\n",
    "    file.write(line + '\\n')\n",
    "file.close()"
   ]
  }
 ],
 "metadata": {
  "kernelspec": {
   "display_name": "Python 3",
   "language": "python",
   "name": "python3"
  },
  "language_info": {
   "codemirror_mode": {
    "name": "ipython",
    "version": 3
   },
   "file_extension": ".py",
   "mimetype": "text/x-python",
   "name": "python",
   "nbconvert_exporter": "python",
   "pygments_lexer": "ipython3",
   "version": "3.7.3"
  }
 },
 "nbformat": 4,
 "nbformat_minor": 2
}
