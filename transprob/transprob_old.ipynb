{
 "cells": [
  {
   "cell_type": "code",
   "execution_count": 1,
   "metadata": {},
   "outputs": [],
   "source": [
    "import numpy as np\n",
    "import csv\n",
    "import pandas as pd\n",
    "import seaborn as sns"
   ]
  },
  {
   "cell_type": "code",
   "execution_count": 2,
   "metadata": {},
   "outputs": [],
   "source": [
    "words4cat = {\n",
    "    'A': ['rud', 'hep', 'bif', 'mib'],\n",
    "    'C': ['lam', 'neb', 'szig', 'kav'],\n",
    "    'D': ['gal', 'lor'],\n",
    "    'F': ['tez', 'dők', 'rász', 'dup'],\n",
    "    'G': ['vot', 'péf']\n",
    "}\n",
    "\n",
    "cat4word = {}\n",
    "for c, w in words4cat.items():\n",
    "    for word in w:\n",
    "        cat4word[word] = c\n",
    "\n",
    "cats = list(words4cat.keys())\n",
    "words = list(cat4word.keys())"
   ]
  },
  {
   "cell_type": "code",
   "execution_count": 3,
   "metadata": {},
   "outputs": [],
   "source": [
    "def get_pair_occurrences(data):\n",
    "    res_dict = {}\n",
    "\n",
    "    for row in data:\n",
    "        for (i, j) in zip(row, row[1:]):\n",
    "            if (i, j) in res_dict:\n",
    "                res_dict[(i, j)] += 1\n",
    "            else:\n",
    "                res_dict[(i, j)] = 1\n",
    "\n",
    "    return res_dict"
   ]
  },
  {
   "cell_type": "code",
   "execution_count": 4,
   "metadata": {},
   "outputs": [],
   "source": [
    "def get_tp(matrix, word1, word2):\n",
    "    return matrix[words.index(word1)][words.index(word2)]"
   ]
  },
  {
   "cell_type": "code",
   "execution_count": 5,
   "metadata": {},
   "outputs": [],
   "source": [
    "def get_cat_tp(matrix, word1, word2):\n",
    "    return matrix[cats.index(cat4word[word1])][cats.index(cat4word[word2])]"
   ]
  },
  {
   "cell_type": "code",
   "execution_count": 6,
   "metadata": {},
   "outputs": [],
   "source": [
    "def read_data(filename):\n",
    "    data = []\n",
    "\n",
    "    with open(filename) as csvfile:\n",
    "        readCsv = csv.reader(csvfile, delimiter=',')\n",
    "        for row in readCsv:\n",
    "            while '0' in row:\n",
    "                row.remove('0')\n",
    "            while '' in row:\n",
    "                row.remove('')\n",
    "            data.append(row)\n",
    "\n",
    "    return data"
   ]
  },
  {
   "cell_type": "code",
   "execution_count": 7,
   "metadata": {},
   "outputs": [],
   "source": [
    "to_read = ['online_training.csv']\n",
    "\n",
    "data_training = []\n",
    "\n",
    "for filename in to_read:\n",
    "    data_training.append(read_data(filename))\n",
    "\n",
    "data_training = sum(data_training, [])\n",
    "\n",
    "training_occ = get_pair_occurrences(data_training)"
   ]
  },
  {
   "cell_type": "code",
   "execution_count": 9,
   "metadata": {},
   "outputs": [
    {
     "name": "stdout",
     "output_type": "stream",
     "text": [
      ",rud,hep,bif,mib,lam,neb,szig,kav,gal,lor,tez,dők,rász,dup,vot,péf\n",
      "rud,0.00,0.00,0.00,0.00,0.09,0.07,0.10,0.06,0.23,0.17,0.00,0.00,0.00,0.00,0.00,0.00\n",
      "hep,0.00,0.00,0.00,0.00,0.09,0.07,0.03,0.09,0.23,0.27,0.00,0.00,0.00,0.00,0.00,0.00\n",
      "bif,0.00,0.00,0.00,0.00,0.09,0.07,0.08,0.04,0.27,0.27,0.00,0.00,0.00,0.00,0.00,0.00\n",
      "mib,0.00,0.00,0.00,0.00,0.09,0.07,0.11,0.06,0.27,0.30,0.00,0.00,0.00,0.00,0.00,0.00\n",
      "lam,0.00,0.00,0.00,0.00,0.00,0.00,0.00,0.00,0.00,0.00,0.22,0.12,0.07,0.14,0.20,0.14\n",
      "neb,0.00,0.00,0.00,0.00,0.00,0.00,0.00,0.00,0.00,0.00,0.11,0.15,0.13,0.07,0.28,0.16\n",
      "szig,0.00,0.00,0.00,0.00,0.00,0.00,0.00,0.00,0.00,0.00,0.22,0.12,0.17,0.14,0.24,0.44\n",
      "kav,0.00,0.00,0.00,0.00,0.00,0.00,0.00,0.00,0.00,0.00,0.00,0.18,0.07,0.10,0.28,0.26\n",
      "gal,0.00,0.00,0.00,0.00,0.13,0.13,0.18,0.15,0.00,0.00,0.00,0.00,0.00,0.00,0.00,0.00\n",
      "lor,0.00,0.00,0.00,0.00,0.16,0.13,0.19,0.11,0.00,0.00,0.00,0.00,0.00,0.00,0.00,0.00\n",
      "tez,0.00,0.00,0.00,0.00,0.02,0.07,0.10,0.09,0.00,0.00,0.00,0.00,0.00,0.00,0.00,0.00\n",
      "dők,0.00,0.00,0.00,0.00,0.16,0.07,0.11,0.13,0.00,0.00,0.00,0.00,0.00,0.00,0.00,0.00\n",
      "rász,0.00,0.00,0.00,0.00,0.13,0.13,0.03,0.15,0.00,0.00,0.00,0.00,0.00,0.00,0.00,0.00\n",
      "dup,0.00,0.00,0.00,0.00,0.04,0.22,0.06,0.13,0.00,0.00,0.00,0.00,0.00,0.00,0.00,0.00\n",
      "vot,0.00,0.00,0.00,0.00,0.00,0.00,0.00,0.00,0.00,0.00,0.15,0.29,0.23,0.31,0.00,0.00\n",
      "péf,0.00,0.00,0.00,0.00,0.00,0.00,0.00,0.00,0.00,0.00,0.30,0.15,0.33,0.24,0.00,0.00\n"
     ]
    },
    {
     "data": {
      "image/png": "[encoded data removed]",
      "text/plain": [
       "<Figure size 432x288 with 2 Axes>"
      ]
     },
     "metadata": {},
     "output_type": "display_data"
    }
   ],
   "source": [
    "n = len(words)\n",
    "M_words = np.zeros((n, n))\n",
    "\n",
    "for i in range(n):\n",
    "    for j in range(n):\n",
    "        if (words[i], words[j]) in training_occ:\n",
    "            M_words[i, j] = training_occ[(words[i], words[j])]\n",
    "\n",
    "for j in range(n):\n",
    "    s = sum(M_words[:, j])\n",
    "    if s > 0:\n",
    "        M_words[:, j] = [x/s for x in M_words[:, j]]\n",
    "\n",
    "df = pd.DataFrame(M_words, index=words, columns=words)\n",
    "sns.heatmap(df, cmap=sns.color_palette('Blues'))\n",
    "\n",
    "file = open('output_word.csv', 'w')\n",
    "line = ',' + ','.join(words)\n",
    "file.write(line + '\\n')\n",
    "print(line)\n",
    "for i in range(len(M_words)):\n",
    "    line = words[i] + ',' + ','.join('%.2f' % number for number in M_words[i])\n",
    "    file.write(line + '\\n')\n",
    "    print(line)\n",
    "file.close()"
   ]
  },
  {
   "cell_type": "code",
   "execution_count": 10,
   "metadata": {},
   "outputs": [
    {
     "name": "stdout",
     "output_type": "stream",
     "text": [
      ",A,C,D,F,G\n",
      "A,0.00,0.67,0.33,0.00,0.00\n",
      "C,0.00,0.00,0.00,0.65,0.35\n",
      "D,0.00,1.00,0.00,0.00,0.00\n",
      "F,0.00,1.00,0.00,0.00,0.00\n",
      "G,0.00,0.00,0.00,1.00,0.00\n"
     ]
    },
    {
     "data": {
      "image/png": "[encoded data removed]",
      "text/plain": [
       "<Figure size 432x288 with 2 Axes>"
      ]
     },
     "metadata": {},
     "output_type": "display_data"
    }
   ],
   "source": [
    "n = len(cats)\n",
    "M_cat = [[0]*n for _ in range(n)]\n",
    "\n",
    "for pair, occ in training_occ.items():\n",
    "    if pair[0] in cat4word and pair[1] in cat4word:\n",
    "        cat0 = cat4word[pair[0]]\n",
    "        cat1 = cat4word[pair[1]]\n",
    "        M_cat[cats.index(cat0)][cats.index(cat1)] += 1\n",
    "\n",
    "for row in M_cat:\n",
    "    s = sum(row)\n",
    "    if s > 0:\n",
    "        row[:] = [x/s for x in row]\n",
    "\n",
    "df = pd.DataFrame(M_cat, index=cats, columns=cats)\n",
    "sns.heatmap(df, cmap=sns.color_palette('Blues'))\n",
    "\n",
    "file = open('output_training_categories_tp.csv', 'w')\n",
    "line = ',' + ','.join(cats)\n",
    "file.write(line + '\\n')\n",
    "print(line)\n",
    "for i in range(len(M_cat)):\n",
    "    line = cats[i] + ',' + ','.join('%.2f' % number for number in M_cat[i])\n",
    "    file.write(line + '\\n')\n",
    "    print(line)\n",
    "file.close()"
   ]
  },
  {
   "cell_type": "code",
   "execution_count": 11,
   "metadata": {},
   "outputs": [],
   "source": [
    "to_read = ['online_recovery.csv']\n",
    "\n",
    "data_test = []\n",
    "\n",
    "for filename in to_read:\n",
    "    data_test.append(read_data(filename))\n",
    "\n",
    "data_test = sum(data_test, [])"
   ]
  },
  {
   "cell_type": "code",
   "execution_count": 12,
   "metadata": {},
   "outputs": [
    {
     "name": "stdout",
     "output_type": "stream",
     "text": [
      "0.17,0.16,0.22,0.07,,,0.15\n",
      "0.23,0.13,0.20,0.29,0.13,0.28,0.21\n",
      "0.07,0.16,0.24,,,,0.16\n",
      "0.17,0.19,0.24,0.29,,,0.22\n",
      "0.09,0.07,0.15,0.26,,,0.14\n",
      "0.23,0.15,0.28,0.31,0.06,,0.21\n",
      "0.07,0.16,0.15,0.16,,,0.13\n",
      "0.07,0.16,0.15,0.13,0.26,,0.15\n",
      "0.27,0.19,0.24,0.31,0.22,0.16,0.23\n",
      "0.11,0.12,,,,,0.12\n",
      "0.07,0.13,0.13,0.14,,,0.12\n",
      "0.08,0.44,0.33,0.13,0.28,,0.25\n",
      "0.04,0.00,0.02,,,,0.02\n",
      "0.23,0.13,0.07,,,,0.14\n",
      "0.17,0.16,0.07,,,,0.13\n",
      "0.09,0.14,0.24,0.13,,,0.15\n",
      "0.27,0.18,0.17,0.13,0.20,,0.19\n",
      "0.23,0.15,0.26,0.33,0.03,,0.20\n",
      "0.27,0.18,0.22,0.10,,,0.19\n",
      "0.08,0.22,,,,,0.15\n",
      "0.30,0.13,0.07,0.13,0.28,,0.18\n",
      "0.10,0.22,0.07,,,,0.13\n",
      "0.27,0.11,0.26,0.30,,,0.23\n",
      "0.04,0.26,0.24,,,,0.18\n"
     ]
    }
   ],
   "source": [
    "width = max(map(lambda x: len(x), data_test)) - 1\n",
    "height = len(data_test)\n",
    "M_words_comp = [[-1]*width for _ in range(height)]\n",
    "\n",
    "for i in range(len(data_test)):\n",
    "    row = data_test[i]\n",
    "    for j in range(len(row) - 1):\n",
    "        M_words_comp[i][j] = get_tp(M_words, row[j], row[j+1])\n",
    "\n",
    "file = open('output_test_word_tp.csv', 'w')\n",
    "for row in M_words_comp:\n",
    "    numbers = list(filter(lambda x: x >= 0, row))\n",
    "    line = ','.join('%.2f' % number for number in row).replace('-1.00', '') + ',' + '%.2f' % (sum(numbers) / len(numbers))\n",
    "    file.write(line + '\\n')\n",
    "    print(line)\n",
    "file.close()"
   ]
  },
  {
   "cell_type": "code",
   "execution_count": 13,
   "metadata": {},
   "outputs": [
    {
     "name": "stdout",
     "output_type": "stream",
     "text": [
      "0.33,1.00,0.65,1.00,,,0.75\n",
      "0.33,1.00,0.35,1.00,1.00,0.35,0.67\n",
      "0.67,0.35,1.00,,,,0.67\n",
      "0.33,1.00,0.35,1.00,,,0.67\n",
      "0.67,0.65,1.00,0.35,,,0.67\n",
      "0.33,1.00,0.35,1.00,1.00,,0.74\n",
      "0.67,0.35,1.00,1.00,,,0.75\n",
      "0.67,0.35,1.00,1.00,0.35,,0.67\n",
      "0.33,1.00,0.35,1.00,1.00,0.35,0.67\n",
      "0.67,0.65,,,,,0.66\n",
      "0.67,0.65,1.00,0.35,,,0.67\n",
      "0.67,0.35,1.00,1.00,0.35,,0.67\n",
      "0.67,0.65,1.00,,,,0.77\n",
      "0.33,1.00,0.65,,,,0.66\n",
      "0.33,1.00,0.65,,,,0.66\n",
      "0.67,0.35,1.00,1.00,,,0.75\n",
      "0.33,1.00,0.65,1.00,0.35,,0.67\n",
      "0.33,1.00,0.35,1.00,1.00,,0.74\n",
      "0.33,1.00,0.65,1.00,,,0.75\n",
      "0.67,0.65,,,,,0.66\n",
      "0.33,1.00,0.65,1.00,0.35,,0.67\n",
      "0.67,0.65,1.00,,,,0.77\n",
      "0.33,1.00,0.35,1.00,,,0.67\n",
      "0.67,0.35,1.00,,,,0.67\n"
     ]
    }
   ],
   "source": [
    "width = max(map(lambda x: len(x), data_test)) - 1\n",
    "height = len(data_test)\n",
    "M_cats_comp = [[-1]*width for _ in range(height)]\n",
    "\n",
    "for i in range(len(data_test)):\n",
    "    row = data_test[i]\n",
    "    for j in range(len(row) - 1):\n",
    "        M_cats_comp[i][j] = get_cat_tp(M_cat, row[j], row[j+1])\n",
    "\n",
    "file = open('output_test_category_tp.csv', 'w')\n",
    "for row in M_cats_comp:\n",
    "    numbers = list(filter(lambda x: x >= 0, row))\n",
    "    line = ','.join('%.2f' % number for number in row).replace('-1.00', '') + ',' + '%.2f' % (sum(numbers) / len(numbers))\n",
    "    file.write(line + '\\n')\n",
    "    print(line)\n",
    "file.close()"
   ]
  }
 ],
 "metadata": {
  "kernelspec": {
   "display_name": "Python 3",
   "language": "python",
   "name": "python3"
  },
  "language_info": {
   "codemirror_mode": {
    "name": "ipython",
    "version": 3
   },
   "file_extension": ".py",
   "mimetype": "text/x-python",
   "name": "python",
   "nbconvert_exporter": "python",
   "pygments_lexer": "ipython3",
   "version": "3.7.3"
  }
 },
 "nbformat": 4,
 "nbformat_minor": 2
}
