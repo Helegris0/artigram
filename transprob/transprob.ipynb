{
 "cells": [
  {
   "cell_type": "code",
   "execution_count": 1,
   "metadata": {},
   "outputs": [],
   "source": [
    "import numpy as np\n",
    "import csv\n",
    "import pandas as pd\n",
    "import seaborn as sns"
   ]
  },
  {
   "cell_type": "code",
   "execution_count": 27,
   "metadata": {},
   "outputs": [],
   "source": [
    "words1 = {\n",
    "    'P': ['szig'],\n",
    "    'S': ['rék'],\n",
    "    'T': ['rud'],\n",
    "    'V': ['zot'],\n",
    "    'X': ['gán']\n",
    "}\n",
    "\n",
    "words2 = {\n",
    "    'P': ['szig', 'mug', 'dup'],\n",
    "    'S': ['rék', 'tof', 'mib'],\n",
    "    'T': ['rud', 'rász', 'ket'],\n",
    "    'V': ['zot', 'neb', 'dők'],\n",
    "    'X': ['gán', 'dol', 'gal']\n",
    "}\n",
    "\n",
    "words3 = {\n",
    "    'M': ['szir'],\n",
    "    'R': ['gok'],\n",
    "    'T': ['kav'],\n",
    "    'V': ['diz'],\n",
    "    'X': ['nef']\n",
    "}\n",
    "\n",
    "words4 = {\n",
    "    'M': ['szir', 'rad', 'nub'],\n",
    "    'R': ['gok', 'sot', 'péf'],\n",
    "    'T': ['kav', 'bif', 'lam'],\n",
    "    'V': ['diz', 'tez', 'lor'],\n",
    "    'X': ['nef', 'vóp', 'dók']\n",
    "}\n",
    "\n",
    "words4cat = words4\n",
    "\n",
    "cat4word = {}\n",
    "for c, w in words4cat.items():\n",
    "    for word in w:\n",
    "        cat4word[word] = c\n",
    "\n",
    "cats = list(words4cat.keys())\n",
    "words = list(cat4word.keys())"
   ]
  },
  {
   "cell_type": "code",
   "execution_count": 3,
   "metadata": {},
   "outputs": [],
   "source": [
    "def read_data(filename):\n",
    "    data = []\n",
    "\n",
    "    with open(filename) as csvfile:\n",
    "        readCsv = csv.reader(csvfile, delimiter=',')\n",
    "        for row in readCsv:\n",
    "            while '0' in row:\n",
    "                row.remove('0')\n",
    "            while '' in row:\n",
    "                row.remove('')\n",
    "            data.append(row)\n",
    "\n",
    "    return data"
   ]
  },
  {
   "cell_type": "code",
   "execution_count": 4,
   "metadata": {},
   "outputs": [],
   "source": [
    "def get_pair_occurrences(data):\n",
    "    res_dict = {}\n",
    "\n",
    "    for row in data:\n",
    "        for (i, j) in zip(row, row[1:]):\n",
    "            if (i, j) in res_dict:\n",
    "                res_dict[(i, j)] += 1\n",
    "            else:\n",
    "                res_dict[(i, j)] = 1\n",
    "\n",
    "    return res_dict"
   ]
  },
  {
   "cell_type": "code",
   "execution_count": 5,
   "metadata": {},
   "outputs": [],
   "source": [
    "def get_tp(matrix, word1, word2):\n",
    "    return matrix[words.index(word1)][words.index(word2)]"
   ]
  },
  {
   "cell_type": "code",
   "execution_count": 32,
   "metadata": {},
   "outputs": [],
   "source": [
    "to_read = ['grammar2_cat_training_v2.csv']\n",
    "\n",
    "data_training = []\n",
    "\n",
    "for filename in to_read:\n",
    "    data_training.append(read_data(filename))\n",
    "\n",
    "data_training = sum(data_training, [])\n",
    "\n",
    "training_occ = get_pair_occurrences(data_training)"
   ]
  },
  {
   "cell_type": "code",
   "execution_count": 33,
   "metadata": {},
   "outputs": [
    {
     "name": "stdout",
     "output_type": "stream",
     "text": [
      ",szir,rad,nub,gok,sot,péf,kav,bif,lam,diz,tez,lor,nef,vóp,dók\n",
      "szir,0.00,0.00,0.00,0.09,0.07,0.04,0.07,0.06,0.03,0.05,0.11,0.11,0.02,0.22,0.05\n",
      "rad,0.00,0.00,0.00,0.09,0.04,0.09,0.00,0.06,0.06,0.10,0.13,0.04,0.07,0.09,0.05\n",
      "nub,0.00,0.00,0.00,0.06,0.05,0.11,0.11,0.03,0.06,0.12,0.05,0.16,0.04,0.02,0.05\n",
      "gok,0.04,0.07,0.15,0.09,0.12,0.06,0.07,0.06,0.06,0.12,0.05,0.11,0.04,0.04,0.03\n",
      "sot,0.04,0.27,0.12,0.02,0.05,0.15,0.04,0.03,0.10,0.12,0.13,0.13,0.04,0.04,0.03\n",
      "péf,0.12,0.10,0.09,0.08,0.04,0.02,0.11,0.19,0.03,0.02,0.08,0.09,0.04,0.04,0.03\n",
      "kav,0.00,0.00,0.06,0.04,0.04,0.00,0.07,0.00,0.03,0.10,0.00,0.05,0.04,0.02,0.00\n",
      "bif,0.00,0.00,0.03,0.04,0.05,0.02,0.04,0.03,0.03,0.05,0.03,0.05,0.04,0.02,0.05\n",
      "lam,0.00,0.00,0.00,0.13,0.02,0.06,0.11,0.00,0.00,0.02,0.03,0.05,0.04,0.02,0.03\n",
      "diz,0.42,0.23,0.15,0.08,0.09,0.04,0.00,0.03,0.03,0.05,0.05,0.02,0.11,0.18,0.21\n",
      "tez,0.08,0.17,0.24,0.09,0.04,0.02,0.00,0.06,0.03,0.05,0.03,0.02,0.11,0.22,0.28\n",
      "lor,0.29,0.17,0.15,0.02,0.05,0.09,0.04,0.00,0.10,0.00,0.11,0.04,0.38,0.07,0.21\n",
      "nef,0.00,0.00,0.00,0.04,0.11,0.13,0.14,0.26,0.13,0.05,0.03,0.00,0.00,0.00,0.00\n",
      "vóp,0.00,0.00,0.00,0.08,0.16,0.11,0.07,0.06,0.13,0.02,0.13,0.07,0.00,0.00,0.00\n",
      "dók,0.00,0.00,0.00,0.06,0.07,0.06,0.14,0.10,0.16,0.14,0.05,0.05,0.00,0.00,0.00\n"
     ]
    },
    {
     "data": {
      "image/png": "[encoded data removed]",
      "text/plain": [
       "<Figure size 432x288 with 2 Axes>"
      ]
     },
     "metadata": {},
     "output_type": "display_data"
    }
   ],
   "source": [
    "n = len(words)\n",
    "M_words = np.zeros((n, n))\n",
    "\n",
    "for i in range(n):\n",
    "    for j in range(n):\n",
    "        if (words[i], words[j]) in training_occ:\n",
    "            M_words[i, j] = training_occ[(words[i], words[j])]\n",
    "\n",
    "for j in range(n):\n",
    "    s = sum(M_words[:, j])\n",
    "    if s > 0:\n",
    "        M_words[:, j] = [x/s for x in M_words[:, j]]\n",
    "\n",
    "df = pd.DataFrame(M_words, index=words, columns=words)\n",
    "sns.heatmap(df, cmap=sns.color_palette('Blues'))\n",
    "\n",
    "file = open('output_training_tp.csv', 'w')\n",
    "line = ',' + ','.join(words)\n",
    "file.write(line + '\\n')\n",
    "print(line)\n",
    "for i in range(len(M_words)):\n",
    "    line = words[i] + ',' + ','.join('%.2f' % number for number in M_words[i])\n",
    "    file.write(line + '\\n')\n",
    "    print(line)\n",
    "file.close()"
   ]
  },
  {
   "cell_type": "code",
   "execution_count": 34,
   "metadata": {},
   "outputs": [],
   "source": [
    "to_read = ['grammar2_cat_test_gr_v2.csv']\n",
    "\n",
    "data_test = []\n",
    "\n",
    "for filename in to_read:\n",
    "    data_test.append(read_data(filename))\n",
    "\n",
    "data_test = sum(data_test, [])"
   ]
  },
  {
   "cell_type": "code",
   "execution_count": 35,
   "metadata": {},
   "outputs": [
    {
     "name": "stdout",
     "output_type": "stream",
     "text": [
      "0.05,0.06,0.04,0.22,0.07,0.00,0.03,0.07\n",
      "0.07,0.04,0.07,0.06,0.12,0.04,,0.07\n",
      "0.09,0.08,0.11,0.15,,,,0.11\n",
      "0.22,0.11,0.02,0.11,0.13,,,0.12\n",
      "0.17,0.04,0.12,0.12,0.04,,,0.10\n",
      "0.29,0.09,0.04,0.02,0.13,0.03,,0.10\n",
      "0.22,0.13,0.04,0.13,0.00,0.05,0.17,0.11\n",
      "0.18,0.13,0.03,,,,,0.11\n"
     ]
    }
   ],
   "source": [
    "width = max(map(lambda x: len(x), data_test)) - 1\n",
    "height = len(data_test)\n",
    "M_words_comp = [[-1]*width for _ in range(height)]\n",
    "\n",
    "for i in range(len(data_test)):\n",
    "    row = data_test[i]\n",
    "    for j in range(len(row) - 1):\n",
    "        M_words_comp[i][j] = get_tp(M_words, row[j], row[j+1])\n",
    "\n",
    "file = open('output_test_tp.csv', 'w')\n",
    "for row in M_words_comp:\n",
    "    numbers = list(filter(lambda x: x >= 0, row))\n",
    "    line = ','.join('%.2f' % number for number in row).replace('-1.00', '') + ',' + '%.2f' % (sum(numbers) / len(numbers))\n",
    "    file.write(line + '\\n')\n",
    "    print(line)\n",
    "file.close()"
   ]
  }
 ],
 "metadata": {
  "kernelspec": {
   "display_name": "Python 3",
   "language": "python",
   "name": "python3"
  },
  "language_info": {
   "codemirror_mode": {
    "name": "ipython",
    "version": 3
   },
   "file_extension": ".py",
   "mimetype": "text/x-python",
   "name": "python",
   "nbconvert_exporter": "python",
   "pygments_lexer": "ipython3",
   "version": "3.7.3"
  }
 },
 "nbformat": 4,
 "nbformat_minor": 2
}
