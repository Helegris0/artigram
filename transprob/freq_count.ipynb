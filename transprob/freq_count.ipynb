{
 "cells": [
  {
   "cell_type": "code",
   "execution_count": 2,
   "metadata": {},
   "outputs": [],
   "source": [
    "import csv"
   ]
  },
  {
   "cell_type": "code",
   "execution_count": 14,
   "metadata": {},
   "outputs": [],
   "source": [
    "words1 = {\n",
    "    'P': ['szig'],\n",
    "    'S': ['rék'],\n",
    "    'T': ['rud'],\n",
    "    'V': ['zot'],\n",
    "    'X': ['gán']\n",
    "}\n",
    "\n",
    "words2 = {\n",
    "    'P': ['szig', 'mug', 'dup'],\n",
    "    'S': ['rék', 'tof', 'mib'],\n",
    "    'T': ['rud', 'rász', 'ket'],\n",
    "    'V': ['zot', 'neb', 'dők'],\n",
    "    'X': ['gán', 'dol', 'gal']\n",
    "}\n",
    "\n",
    "words3 = {\n",
    "    'M': ['szir'],\n",
    "    'R': ['gok'],\n",
    "    'T': ['kav'],\n",
    "    'V': ['diz'],\n",
    "    'X': ['nef']\n",
    "}\n",
    "\n",
    "words4 = {\n",
    "    'M': ['szir', 'rad', 'nub'],\n",
    "    'R': ['gok', 'sot', 'péf'],\n",
    "    'T': ['kav', 'bif', 'lam'],\n",
    "    'V': ['diz', 'tez', 'lor'],\n",
    "    'X': ['nef', 'vóp', 'dók']\n",
    "}"
   ]
  },
  {
   "cell_type": "code",
   "execution_count": 15,
   "metadata": {},
   "outputs": [],
   "source": [
    "d = words4\n",
    "words = []\n",
    "\n",
    "for array in d.values():\n",
    "    for word in array:\n",
    "        words.append(word)"
   ]
  },
  {
   "cell_type": "code",
   "execution_count": 21,
   "metadata": {},
   "outputs": [
    {
     "name": "stdout",
     "output_type": "stream",
     "text": [
      "szir,46\n",
      "rad,44\n",
      "nub,48\n",
      "gok,53\n",
      "sot,56\n",
      "péf,47\n",
      "kav,28\n",
      "bif,31\n",
      "lam,31\n",
      "diz,64\n",
      "tez,60\n",
      "lor,65\n",
      "nef,45\n",
      "vóp,45\n",
      "dók,39\n"
     ]
    }
   ],
   "source": [
    "filename = 'grammar2_cat_training_v2.csv'\n",
    "\n",
    "data = []\n",
    "\n",
    "with open(filename) as file:\n",
    "    reader = csv.reader(file, delimiter=',')\n",
    "    for row in reader:\n",
    "        while '' in row:\n",
    "            row.remove('')\n",
    "        data.append(row)\n",
    "\n",
    "word_freq = dict.fromkeys(words, 0)\n",
    "\n",
    "for row in data:\n",
    "    for word in row:\n",
    "        if word in word_freq.keys():\n",
    "            word_freq[word] += 1\n",
    "        else:\n",
    "            word_freq[word] = 1\n",
    "\n",
    "file = open('output_word_freq.csv', 'w')\n",
    "for k, v in word_freq.items():\n",
    "    line = ','.join([k, str(v)])\n",
    "    file.write(line + '\\n')\n",
    "    print(line)\n",
    "file.close()"
   ]
  }
 ],
 "metadata": {
  "kernelspec": {
   "display_name": "Python 3",
   "language": "python",
   "name": "python3"
  },
  "language_info": {
   "codemirror_mode": {
    "name": "ipython",
    "version": 3
   },
   "file_extension": ".py",
   "mimetype": "text/x-python",
   "name": "python",
   "nbconvert_exporter": "python",
   "pygments_lexer": "ipython3",
   "version": "3.7.3"
  }
 },
 "nbformat": 4,
 "nbformat_minor": 2
}
